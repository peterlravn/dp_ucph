{
 "cells": [
  {
   "cell_type": "code",
   "execution_count": 2,
   "metadata": {},
   "outputs": [
    {
     "name": "stdout",
     "output_type": "stream",
     "text": [
      "The autoreload extension is already loaded. To reload it, use:\n",
      "  %reload_ext autoreload\n"
     ]
    }
   ],
   "source": [
    "# magics: ensures that any changes to the modules loaded below will be re-loaded automatically\n",
    "%load_ext autoreload\n",
    "%autoreload 2\n",
    "\n",
    "# load general packages\n",
    "from scipy import interpolate\n",
    "import numpy as np\n",
    "import matplotlib.pyplot as plt\n",
    "import time\n",
    "plt.style.use('seaborn-whitegrid')"
   ]
  },
  {
   "attachments": {},
   "cell_type": "markdown",
   "metadata": {},
   "source": [
    "# Exercise 2: EGM\n",
    "\n",
    "Consider the model\n",
    "$$\\begin{align*}\n",
    "V_{t}(M_{t}) & = & \\max_{C_{t}}\\left\\{ \\frac{C_{t}^{1-\\rho}}{1-\\rho}+\\beta\\mathbb{E}_{t}\\left[V_{t+1}(M_{t+1})\\right]\\right\\} \\\\\n",
    " & \\text{s.t.}\\\\\n",
    "M_{t+1} & = & R(M_{t}-C_{t})+Y_{t+1}\\\\\n",
    "Y_{t+1} & = & \\exp(\\xi_{t+1})\\\\\n",
    "\\xi_{t+1} & = & \\mathcal{N}(\\mu,\\sigma_{\\xi}^{2})\\\\\n",
    "A_{t}=M_{t}-C_{t} & \\geq & 0\n",
    "\\end{align*}$$\n",
    "\n",
    "for $T=10$, $\\beta=0.98$, $\\rho=0.5$, $R=1.0/\\beta$, $M_1=10$ and $\\sigma_{\\xi}=0.2$."
   ]
  },
  {
   "attachments": {},
   "cell_type": "markdown",
   "metadata": {},
   "source": [
    "### 1. Solve the model using EGM. Remember that optimal consumption must satisfy the Euler-equation:\n",
    "$$\\begin{align*}\n",
    "u'(C_t) = \\mathbb{E}_t[u'(C_{t+1}^{\\star}(M_{t+1}))]\n",
    "\\end{align*}$$"
   ]
  },
  {
   "cell_type": "code",
   "execution_count": 4,
   "metadata": {},
   "outputs": [
    {
     "ename": "NameError",
     "evalue": "name 'c_now' is not defined",
     "output_type": "error",
     "traceback": [
      "\u001b[0;31m---------------------------------------------------------------------------\u001b[0m",
      "\u001b[0;31mNameError\u001b[0m                                 Traceback (most recent call last)",
      "\u001b[1;32m/Users/ahj/Library/CloudStorage/OneDrive-Personal/Polit/10. semester/DP/dp_ucph/3_discrete_continuous_choice/exercises/ex_ante/02_EGM.ipynb Cell 4\u001b[0m in \u001b[0;36m<cell line: 8>\u001b[0;34m()\u001b[0m\n\u001b[1;32m      <a href='vscode-notebook-cell:/Users/ahj/Library/CloudStorage/OneDrive-Personal/Polit/10.%20semester/DP/dp_ucph/3_discrete_continuous_choice/exercises/ex_ante/02_EGM.ipynb#W4sZmlsZQ%3D%3D?line=4'>5</a>\u001b[0m par_EGM \u001b[39m=\u001b[39m ex2\u001b[39m.\u001b[39msetup()\n\u001b[1;32m      <a href='vscode-notebook-cell:/Users/ahj/Library/CloudStorage/OneDrive-Personal/Polit/10.%20semester/DP/dp_ucph/3_discrete_continuous_choice/exercises/ex_ante/02_EGM.ipynb#W4sZmlsZQ%3D%3D?line=6'>7</a>\u001b[0m \u001b[39m# Solve\u001b[39;00m\n\u001b[0;32m----> <a href='vscode-notebook-cell:/Users/ahj/Library/CloudStorage/OneDrive-Personal/Polit/10.%20semester/DP/dp_ucph/3_discrete_continuous_choice/exercises/ex_ante/02_EGM.ipynb#W4sZmlsZQ%3D%3D?line=7'>8</a>\u001b[0m sol_EGM \u001b[39m=\u001b[39m ex2\u001b[39m.\u001b[39;49msolve_EGM(par_EGM, vector\u001b[39m=\u001b[39;49m\u001b[39mFalse\u001b[39;49;00m)\n",
      "File \u001b[0;32m~/Library/CloudStorage/OneDrive-Personal/Polit/10. semester/DP/dp_ucph/3_discrete_continuous_choice/exercises/ex_ante/Exercise_2.py:92\u001b[0m, in \u001b[0;36msolve_EGM\u001b[0;34m(par, vector)\u001b[0m\n\u001b[1;32m     90\u001b[0m     sol \u001b[39m=\u001b[39m EGM_vectorized(sol, t, par)\n\u001b[1;32m     91\u001b[0m \u001b[39melse\u001b[39;00m:\n\u001b[0;32m---> 92\u001b[0m     sol \u001b[39m=\u001b[39m EGM_loop(sol, t, par)\n\u001b[1;32m     93\u001b[0m \u001b[39m# add zero consumption to account for borrowing constraint\u001b[39;00m\n\u001b[1;32m     94\u001b[0m sol\u001b[39m.\u001b[39mM[\u001b[39m0\u001b[39m,t] \u001b[39m=\u001b[39m \u001b[39m0\u001b[39m\n",
      "File \u001b[0;32m~/Library/CloudStorage/OneDrive-Personal/Polit/10. semester/DP/dp_ucph/3_discrete_continuous_choice/exercises/ex_ante/Exercise_2.py:61\u001b[0m, in \u001b[0;36mEGM_loop\u001b[0;34m(sol, t, par)\u001b[0m\n\u001b[1;32m     49\u001b[0m interp \u001b[39m=\u001b[39m interpolate\u001b[39m.\u001b[39minterp1d(sol\u001b[39m.\u001b[39mM[:,t\u001b[39m+\u001b[39m\u001b[39m1\u001b[39m],sol\u001b[39m.\u001b[39mC[:,t\u001b[39m+\u001b[39m\u001b[39m1\u001b[39m], bounds_error\u001b[39m=\u001b[39m\u001b[39mFalse\u001b[39;00m, fill_value \u001b[39m=\u001b[39m \u001b[39m\"\u001b[39m\u001b[39mextrapolate\u001b[39m\u001b[39m\"\u001b[39m)  \u001b[39m# Interpolation function\u001b[39;00m\n\u001b[1;32m     50\u001b[0m \u001b[39mfor\u001b[39;00m i_a,a \u001b[39min\u001b[39;00m \u001b[39menumerate\u001b[39m(par\u001b[39m.\u001b[39mgrid_a): \u001b[39m# Loop over end-of-period assets\u001b[39;00m\n\u001b[1;32m     51\u001b[0m     \n\u001b[1;32m     52\u001b[0m     \u001b[39m# Fill in\u001b[39;00m\n\u001b[0;32m   (...)\u001b[0m\n\u001b[1;32m     59\u001b[0m     \n\u001b[1;32m     60\u001b[0m     \u001b[39m# Index 0 is used for the corner solution, so start at index 1\u001b[39;00m\n\u001b[0;32m---> 61\u001b[0m     sol\u001b[39m.\u001b[39mC[i_a\u001b[39m+\u001b[39m\u001b[39m1\u001b[39m,t]\u001b[39m=\u001b[39m c_now\n\u001b[1;32m     62\u001b[0m     sol\u001b[39m.\u001b[39mM[i_a\u001b[39m+\u001b[39m\u001b[39m1\u001b[39m,t]\u001b[39m=\u001b[39m c_now \u001b[39m+\u001b[39m a\n\u001b[1;32m     64\u001b[0m \u001b[39mreturn\u001b[39;00m sol\n",
      "\u001b[0;31mNameError\u001b[0m: name 'c_now' is not defined"
     ]
    }
   ],
   "source": [
    "# Import EGM model\n",
    "import Exercise_2 as ex2\n",
    "\n",
    "# Setup\n",
    "par_EGM = ex2.setup()\n",
    "\n",
    "# Solve\n",
    "sol_EGM = ex2.solve_EGM(par_EGM, vector=False)"
   ]
  },
  {
   "cell_type": "code",
   "execution_count": 5,
   "metadata": {},
   "outputs": [
    {
     "ename": "SyntaxError",
     "evalue": "invalid syntax (Exercise_1.py, line 77)",
     "output_type": "error",
     "traceback": [
      "Traceback \u001b[0;36m(most recent call last)\u001b[0m:\n",
      "  File \u001b[1;32m~/opt/anaconda3/lib/python3.9/site-packages/IPython/core/interactiveshell.py:3398\u001b[0m in \u001b[1;35mrun_code\u001b[0m\n    exec(code_obj, self.user_global_ns, self.user_ns)\n",
      "\u001b[0;36m  Input \u001b[0;32mIn [5]\u001b[0;36m in \u001b[0;35m<cell line: 2>\u001b[0;36m\u001b[0m\n\u001b[0;31m    import Exercise_1 as ex1\u001b[0m\n",
      "\u001b[0;36m  File \u001b[0;32m~/Library/CloudStorage/OneDrive-Personal/Polit/10. semester/DP/dp_ucph/3_discrete_continuous_choice/exercises/ex_ante/Exercise_1.py:77\u001b[0;36m\u001b[0m\n\u001b[0;31m    m_next = #Fill in. Hint: create a matrix with state grid points as rows and add the different shocks as columns\u001b[0m\n\u001b[0m             ^\u001b[0m\n\u001b[0;31mSyntaxError\u001b[0m\u001b[0;31m:\u001b[0m invalid syntax\n"
     ]
    }
   ],
   "source": [
    "# Import time iterations model\n",
    "import Exercise_1 as ex1\n",
    "\n",
    "# Setup\n",
    "par_TI = ex1.setup()\n",
    "\n",
    "# Solve\n",
    "sol_TI = ex1.solve_ti(par_TI)"
   ]
  },
  {
   "cell_type": "code",
   "execution_count": null,
   "metadata": {},
   "outputs": [],
   "source": [
    "# Print consumption function\n",
    "fig = plt.figure(figsize=(8,5))# figsize is in inches...\n",
    "ax = fig.add_subplot(1,1,1)\n",
    "for t in range(par_EGM.T):\n",
    "    ax.plot(sol_EGM.M[:,t],sol_EGM.C[:,t],  label=f\"t = {t + 1}, EGM\",  linestyle='-')\n",
    "    ax.plot(par_TI.grid_M,sol_TI.C[:,t],    label=f\"t = {t + 1}, TI\",   linestyle='--')\n",
    "ax.set_xlabel(f\"$M_t$\")\n",
    "ax.set_ylabel(f\"$C_t$\")\n",
    "ax.set_title(f'Consumption function')\n",
    "ax.legend(bbox_to_anchor=(1.05, 1), loc='upper left', borderaxespad=0.)\n",
    "plt.show()"
   ]
  },
  {
   "cell_type": "markdown",
   "metadata": {},
   "source": [
    "### 2. Simulate a panel of *N=10000* household for *T=10* periods and plot the mean of $C_t$. Everybody should be initialized with $W_t = 1.5$."
   ]
  },
  {
   "cell_type": "code",
   "execution_count": null,
   "metadata": {},
   "outputs": [],
   "source": [
    "sim = ex2.simulate(par_EGM,sol_EGM)\n",
    "\n",
    "def figure_sim(simC,par):\n",
    "    fig = plt.figure(figsize=(10,4))# figsize is in inches...\n",
    "    t_grid = [t for t in range(1,par.T+1)]    \n",
    "    ax = fig.add_subplot(1,1,1)\n",
    "    ax.plot(t_grid,np.mean(sim.C,0),'-o')\n",
    "    ax.set_xlabel(f\"t\")\n",
    "    ax.set_ylabel(f\"Mean of consumption\")\n",
    "    ax.set_ylim(bottom=0.5,top=1.5)\n",
    "    plt.show()\n",
    "    \n",
    "figure_sim(sim.C,par_EGM)"
   ]
  },
  {
   "attachments": {},
   "cell_type": "markdown",
   "metadata": {},
   "source": [
    "### 3. How does the speed of the EGM procedure compare with the speed of time iterations\n",
    "(Optional) Could you write a vectorized version of EGM to speed it up? (i.e. without no loop over $a_t$)"
   ]
  },
  {
   "cell_type": "code",
   "execution_count": null,
   "metadata": {},
   "outputs": [],
   "source": [
    "# Time iterations\n",
    "par_TI = ex1.setup()\n",
    "print(\"Time spent on vectorized time iterations:\")\n",
    "%timeit -n 10 sol_TI = ex1.solve_ti(par_TI)\n",
    "\n",
    "# EGM with loop\n",
    "par_EGM = ex2.setup()\n",
    "print(\"Time spent on EGM with loop:\")\n",
    "%timeit -n 10 sol_EGM = ex2.solve_EGM(par_EGM, vector=False)\n",
    "\n",
    "# # Vectorized EGM\n",
    "# par_EGM = ex2.setup()\n",
    "# print(\"Time spent on vectorized EGM:\")\n",
    "# %timeit -n 10 sol_EGM_vec = ex2.solve_EGM(par_EGM, vector=True)"
   ]
  },
  {
   "cell_type": "code",
   "execution_count": null,
   "metadata": {},
   "outputs": [],
   "source": []
  }
 ],
 "metadata": {
  "kernelspec": {
   "display_name": "base",
   "language": "python",
   "name": "python3"
  },
  "language_info": {
   "codemirror_mode": {
    "name": "ipython",
    "version": 3
   },
   "file_extension": ".py",
   "mimetype": "text/x-python",
   "name": "python",
   "nbconvert_exporter": "python",
   "pygments_lexer": "ipython3",
   "version": "3.9.7"
  },
  "vscode": {
   "interpreter": {
    "hash": "ad2bdc8ecc057115af97d19610ffacc2b4e99fae6737bb82f5d7fb13d2f2c186"
   }
  }
 },
 "nbformat": 4,
 "nbformat_minor": 4
}
