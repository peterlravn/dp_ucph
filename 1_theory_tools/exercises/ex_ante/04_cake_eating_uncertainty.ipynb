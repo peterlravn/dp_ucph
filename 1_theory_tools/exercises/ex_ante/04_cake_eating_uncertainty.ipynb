{
 "cells": [
  {
   "cell_type": "code",
   "execution_count": 3,
   "metadata": {},
   "outputs": [
    {
     "name": "stdout",
     "output_type": "stream",
     "text": [
      "The autoreload extension is already loaded. To reload it, use:\n",
      "  %reload_ext autoreload\n"
     ]
    },
    {
     "ename": "IndentationError",
     "evalue": "expected an indented block (Exercise_4.py, line 33)",
     "output_type": "error",
     "traceback": [
      "Traceback \u001b[1;36m(most recent call last)\u001b[0m:\n",
      "  File \u001b[0;32m\"C:\\Users\\peter\\anaconda3\\lib\\site-packages\\IPython\\core\\interactiveshell.py\"\u001b[0m, line \u001b[0;32m3457\u001b[0m, in \u001b[0;35mrun_code\u001b[0m\n    exec(code_obj, self.user_global_ns, self.user_ns)\n",
      "\u001b[1;36m  File \u001b[1;32m\"C:\\Users\\peter\\AppData\\Local\\Temp\\ipykernel_5576\\2716042335.py\"\u001b[1;36m, line \u001b[1;32m12\u001b[1;36m, in \u001b[1;35m<module>\u001b[1;36m\u001b[0m\n\u001b[1;33m    import Exercise_4 as ex4\u001b[0m\n",
      "\u001b[1;36m  File \u001b[1;32m\"C:\\Users\\peter\\OneDrive\\Documents\\GitHub\\dp_ucph\\1_theory_tools\\exercises\\ex_ante\\Exercise_4.py\"\u001b[1;36m, line \u001b[1;32m33\u001b[0m\n\u001b[1;33m    V_guess = np.sqrt(c)+par.beta*EV_next\u001b[0m\n\u001b[1;37m    ^\u001b[0m\n\u001b[1;31mIndentationError\u001b[0m\u001b[1;31m:\u001b[0m expected an indented block\n"
     ]
    }
   ],
   "source": [
    "# magics: ensures that any changes to the modules loaded below will be re-loaded automatically\n",
    "%load_ext autoreload\n",
    "%autoreload 2\n",
    "\n",
    "# load packages\n",
    "import numpy as np\n",
    "import matplotlib.pyplot as plt\n",
    "plt.style.use('seaborn-whitegrid')\n",
    "\n",
    "\n",
    "# load modules related to this exercise\n",
    "import Exercise_4 as ex4"
   ]
  },
  {
   "cell_type": "markdown",
   "metadata": {},
   "source": [
    "# Exercise 4: Introducing uncertainty"
   ]
  },
  {
   "cell_type": "markdown",
   "metadata": {},
   "source": [
    "Consider the model with uncertainty:\n",
    "$$\\begin{align*}\n",
    "    V_{t}(W_{t}) & = \\max_{c_{t}}\\left\\{ \\sqrt{c_{t}} + \\beta \\sum_{i=1}^K V_{t+1}(W_t-c_t+\\varepsilon_i)\\pi_i  \\right\\} \\\\\n",
    " & \\text{s.t.}\\\\\n",
    "c_{t} & \\leq  W_{t} , \\,\\forall t\\\\\n",
    "c_{t} & \\in  \\mathbb{R}_+, \\,\\forall t \\\\\n",
    "\\varepsilon_i & \\in \\mathbb{N}  \\text{ with probability } \\pi_i\\ge 0, i=1,\\dots,K, \\text{ and } \\sum_{i=1}^K \\pi_i=1\n",
    "\\end{align*}$$\n",
    "for $T=10$, $\\beta=0.90$ and $W_{1}=10$. Further assume that $\\epsilon_i$ follows a uniform distribution, $K=5$ and $\\epsilon_{i} \\in (0,1,2,3,4)$"
   ]
  },
  {
   "cell_type": "markdown",
   "metadata": {},
   "source": [
    "### 1. Solve the model using *backward induction*, *grid search*, and *linear interpolation*."
   ]
  },
  {
   "cell_type": "code",
   "execution_count": 1,
   "metadata": {},
   "outputs": [
    {
     "ename": "SyntaxError",
     "evalue": "invalid syntax (4258234132.py, line 6)",
     "output_type": "error",
     "traceback": [
      "\u001b[1;36m  File \u001b[1;32m\"C:\\Users\\peter\\AppData\\Local\\Temp\\ipykernel_5576\\4258234132.py\"\u001b[1;36m, line \u001b[1;32m6\u001b[0m\n\u001b[1;33m    par.pi = #fill in\u001b[0m\n\u001b[1;37m             ^\u001b[0m\n\u001b[1;31mSyntaxError\u001b[0m\u001b[1;31m:\u001b[0m invalid syntax\n"
     ]
    }
   ],
   "source": [
    "# Setup specifications in class. \n",
    "class par: pass\n",
    "par.beta = 0.90\n",
    "par.W = 10\n",
    "par.T = 10\n",
    "par.pi = \n",
    "par.eps = \n",
    "par.K = 5\n",
    "\n",
    "\n",
    "# Grid\n",
    "par.num_W = 200\n",
    "par.num_C = 200\n",
    "\n",
    "\n",
    "# Solve the model\n",
    "sol = ex4.solve_consumption_uncertainty(par)"
   ]
  },
  {
   "cell_type": "markdown",
   "metadata": {},
   "source": [
    "### 2. Plot the value function and the consumption function for $t=1$. Make sure that both functions are increasing in $W$."
   ]
  },
  {
   "cell_type": "code",
   "execution_count": null,
   "metadata": {},
   "outputs": [],
   "source": [
    "# Compare \n",
    "fig = plt.figure(figsize=(10,4)) # figsize is in inches...\n",
    "\n",
    "ax = fig.add_subplot(1,2,1)\n",
    "ax.plot(sol.grid_W[:,0],sol.V[:,0])\n",
    "ax.set_xlabel(\"$W_1$\")\n",
    "ax.set_ylabel(\"$V_1$\")\n",
    "ax_right = fig.add_subplot(1,2,2)\n",
    "ax_right.plot(sol.grid_W[:,0],sol.C[:,0])\n",
    "ax_right.set_xlabel(\"$W_1$\")\n",
    "ax_right.set_ylabel(\"$C_1$\")\n",
    "plt.show()"
   ]
  },
  {
   "cell_type": "markdown",
   "metadata": {},
   "source": [
    "### 3. Compare the value function and consumption function from ex. 1 with a determistic model, i.e. a model with no stochastic income growth."
   ]
  },
  {
   "cell_type": "code",
   "execution_count": null,
   "metadata": {},
   "outputs": [],
   "source": [
    "class par_fixed(par): pass  # Create a copy of the class\n",
    "par_fixed.pi = #fill in\n",
    "sol_fixed = ex4.solve_consumption_uncertainty(par_fixed)\n",
    "\n",
    "# Compare \n",
    "plt.plot(sol.grid_W[:,0],sol.C[:,0], label='Uniform distribution, $\\epsilon$',)\n",
    "plt.plot(sol_fixed.grid_W[:,0],sol_fixed.C[:,0], label='Deterministic, $\\epsilon$')\n",
    "plt.ylabel('$C_1$')\n",
    "plt.xlabel('$W_1$')\n",
    "plt.legend();plt.show()\n",
    "plt.plot(sol.grid_W[:,0],sol.V[:,0], label='Uniform distribution, $\\epsilon$')\n",
    "plt.plot(sol_fixed.grid_W[:,0],sol_fixed.V[:,0], label='Deterministic, $\\epsilon$')\n",
    "plt.ylabel('$V_1$')\n",
    "plt.xlabel('$W_1$')\n",
    "plt.legend();plt.show()"
   ]
  },
  {
   "cell_type": "markdown",
   "metadata": {},
   "source": [
    "### 4. Reestimate the model assuming that $\\pi = [0.05, 0.05, 0.8, 0.05, 0.05]$. How does the solution compare to the model with uniform uncertainty? "
   ]
  },
  {
   "cell_type": "code",
   "execution_count": null,
   "metadata": {},
   "outputs": [],
   "source": [
    "class par_mass(par): pass \n",
    "par_mass.pi = #fill in\n",
    "sol_mass = ex4.solve_consumption_uncertainty(par_mass)\n",
    "\n",
    "# Compare \n",
    "plt.plot(sol.grid_W[:,0],sol.C[:,0], label='Uniform distribution, $\\epsilon$')\n",
    "plt.plot(sol_mass.grid_W[:,0],sol_mass.C[:,0], label='Mass point distribution, $\\epsilon$')\n",
    "plt.legend();plt.show()\n",
    "plt.plot(sol.grid_W[:,0],sol.V[:,0], label='Uniform distribution, $\\epsilon$')\n",
    "plt.plot(sol_mass.grid_W[:,0],sol_mass.V[:,0], label='Mass point distribution, $\\epsilon$')\n",
    "plt.legend();plt.show()"
   ]
  },
  {
   "cell_type": "markdown",
   "metadata": {},
   "source": [
    "### 5. Simulate a panel of *10,000* household for *10* periods and plot the mean of $C_t$. Everybody should be initialized with $W_1 = 10$. Simulate using the solution from ex.1 and the solution from ex. 4. What is the intuition of the graphs?"
   ]
  },
  {
   "cell_type": "code",
   "execution_count": null,
   "metadata": {},
   "outputs": [],
   "source": [
    "# Simulate \n",
    "np.random.seed(2022)  #Seed value, it ensures that the computer draw the same \"random\"-numbers each time\n",
    "\n",
    "def simulate(sol, par, sim):\n",
    "    \n",
    "    # Allocate\n",
    "    shape = (sim.simN, sim.T)\n",
    "    simN = sim.simN\n",
    "    W_ini = sim.W_ini\n",
    "    W = sim.W_ini*np.ones(shape)\n",
    "    C = np.nan +np.zeros(shape)\n",
    "    mean = np.zeros(sim.T)\n",
    "    \n",
    "    for t in range(par.T):\n",
    "        #fill in\n",
    "        # Hint: Interpolate to get consumption\n",
    "        #       Draw shocks with np.randon.choice\n",
    "        #       Handle state transition\n",
    "\n",
    "        \n",
    "        \n",
    "        \n",
    "        \n",
    "        \n",
    "    return mean\n",
    "\n",
    "class sim: pass\n",
    "sim.simN = 10000\n",
    "sim.W_ini = 10\n",
    "sim.T = 10\n",
    "sim.T_grid = range(1,sim.T+1)\n",
    "\n",
    "sim_uni = simulate(sol,par,sim)\n",
    "sim_mass = simulate(sol_mass,par_mass,sim)\n",
    "\n",
    "plt.plot(sim.T_grid,sim_uni, label='Uniform distribution, $\\epsilon$')\n",
    "plt.plot(sim.T_grid,sim_mass, label='Mass point distribution, $\\epsilon$')\n",
    "plt.ylabel('$C_t$')\n",
    "plt.xlabel('$t$')\n",
    "plt.legend();plt.show()"
   ]
  }
 ],
 "metadata": {
  "kernelspec": {
   "display_name": "Python 3 (ipykernel)",
   "language": "python",
   "name": "python3"
  },
  "language_info": {
   "codemirror_mode": {
    "name": "ipython",
    "version": 3
   },
   "file_extension": ".py",
   "mimetype": "text/x-python",
   "name": "python",
   "nbconvert_exporter": "python",
   "pygments_lexer": "ipython3",
   "version": "3.9.13"
  },
  "vscode": {
   "interpreter": {
    "hash": "d23f3ceec305a45481076084313530cecc6283a24046b34365f00383ab0a81b1"
   }
  }
 },
 "nbformat": 4,
 "nbformat_minor": 4
}
