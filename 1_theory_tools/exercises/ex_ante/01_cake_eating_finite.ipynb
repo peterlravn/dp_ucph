{
 "cells": [
  {
   "cell_type": "code",
   "execution_count": 2,
   "metadata": {},
   "outputs": [],
   "source": [
    "# Load package \n",
    "import numpy as np"
   ]
  },
  {
   "cell_type": "markdown",
   "metadata": {},
   "source": [
    "<h1> Exercise 1: The Simplest Consumption Model (Cake Eating Problem)"
   ]
  },
  {
   "cell_type": "markdown",
   "metadata": {},
   "source": [
    "Consider the simplest consumption-saving model:\n",
    "\n",
    "$$\\begin{align*}\n",
    "    V_1^*(W) &= \\max_{c_1,c_2,\\dots,c_T} \\{ \\sqrt{c_1} +\\beta \\sqrt{c_2}+\\beta^2\\sqrt{c_3}+\\cdots+\\beta^T\\sqrt{c_T} \\} \\\\\n",
    "    & \\text{s.t.} \\\\\n",
    "    W &= c_1 + c_2+\\cdots+c_T \\\\\n",
    "    c_t &\\in \\mathbb{N}, \\, \\forall t\n",
    "\\end{align*}$$\n",
    "for $T=3$, $\\beta =0.9$ and $W=5$."
   ]
  },
  {
   "cell_type": "markdown",
   "metadata": {},
   "source": [
    "### 1. Solve the model using backwards induction: "
   ]
  },
  {
   "cell_type": "code",
<<<<<<< Updated upstream
   "execution_count": 4,
   "metadata": {},
   "outputs": [
    {
     "name": "stdout",
     "output_type": "stream",
     "text": [
      "[[0. 0. 0.]\n",
      " [1. 1. 1.]\n",
      " [1. 1. 2.]\n",
      " [1. 2. 3.]\n",
      " [2. 2. 4.]\n",
      " [2. 3. 5.]]\n"
=======
   "execution_count": 15,
   "metadata": {},
   "outputs": [
    {
     "data": {
      "text/plain": [
       "array([0.        , 1.        , 1.41421356, 1.73205081, 2.        ,\n",
       "       2.23606798])"
      ]
     },
     "execution_count": 15,
     "metadata": {},
     "output_type": "execute_result"
    }
   ],
   "source": [
    "Vstar_bi = np.nan+np.zeros([5+1,1])\n",
    "Cstar_bi = np.nan + np.zeros([5+1,1])\n",
    "Cstar_bi[:,1-1] = np.arange(5+1) #Set the last period to be the whole cake\n",
    "Vstar_bi[:,1-1] = np.sqrt(Cstar_bi[:,1-1])\n",
    "\n",
    "Vstar_bi[:,1-1]"
   ]
  },
  {
   "cell_type": "code",
   "execution_count": 10,
   "metadata": {},
   "outputs": [
    {
     "data": {
      "text/plain": [
       "array([2.23606798, 2.        , 1.73205081, 1.41421356, 1.        ,\n",
       "       0.        ])"
      ]
     },
     "execution_count": 10,
     "metadata": {},
     "output_type": "execute_result"
    }
   ],
   "source": [
    "w = 5\n",
    "\n",
    "c = np.arange(5+1)\n",
    "        \n",
    "V_next = (w-c)**(1/2)\n",
    "V_next"
   ]
  },
  {
   "cell_type": "code",
   "execution_count": 41,
   "metadata": {},
   "outputs": [
    {
     "name": "stdout",
     "output_type": "stream",
     "text": [
      "[2.70435871 3.41830519 3.49700577 3.44205081 2.9        2.23606798]\n",
      "[[0.         0.         0.        ]\n",
      " [1.         1.         1.        ]\n",
      " [1.9        1.9        1.41421356]\n",
      " [2.71       2.31421356 1.73205081]\n",
      " [3.12421356 2.68700577 2.        ]\n",
      " [3.49700577 3.00484301 2.23606798]]\n"
>>>>>>> Stashed changes
     ]
    }
   ],
   "source": [
    "# 1. Setup \n",
    "beta = 0.9\n",
    "W = 5\n",
    "T = 3\n",
    "\n",
    "# 2. Initialize\n",
    "Vstar_bi = np.nan+np.zeros([W+1,T]) #Make a (W+1)xT matrix of NaNs\n",
    "Cstar_bi = np.nan + np.zeros([W+1,T]) #Make a (W+1)xT matrix of NaNs\n",
    "Cstar_bi[:,T-1] = np.arange(W+1) #Set the last period to be the whole cake\n",
    "Vstar_bi[:,T-1] = np.sqrt(Cstar_bi[:,T-1]) #Compute the value of the last period\n",
<<<<<<< Updated upstream
    "\n",
    "# 3. solve\n",
    "# Loop over periods backwards\n",
    "for t in range(T-2, -1, -1):  #from period T-2, until period 0, backwards  \n",
    "    \n",
=======
    "\n",
    "# 3. solve\n",
    "# Loop over periods backwards\n",
    "for t in range(T-2, -1, -1):  #from period T-2, until period 0, backwards: range(start, stop, step)\n",
    "\n",
>>>>>>> Stashed changes
    "    #loop over states\n",
    "    for w in range(W+1):\n",
    "        c = np.arange(w+1)\n",
    "        \n",
<<<<<<< Updated upstream
    "        w_c = w-c\n",
=======
    "        w_c = (w-c)\n",
>>>>>>> Stashed changes
    "        V_next = Vstar_bi[w_c,t+1]\n",
    "\n",
    "        V_guess = np.sqrt(c)+beta*V_next #(w+1) vector of possible values next period\n",
    "        Vstar_bi[w,t] = np.amax(V_guess) #Find the maximum value\n",
    "        Cstar_bi[w,t] = np.argmax(V_guess) #Find the corresponding consumption (in this case equal to the index of the maximum value)\n",
<<<<<<< Updated upstream
    "        \n",
    "print(Cstar_bi)"
=======
    "\n",
    "print(V_guess)\n",
    "print(Vstar_bi)"
>>>>>>> Stashed changes
   ]
  },
  {
   "cell_type": "markdown",
   "metadata": {},
   "source": [
    "### 2. Fill in Exercise_1.py with a function with $\\beta$, $W$ and $T$ as inputs"
   ]
  },
  {
   "cell_type": "code",
   "execution_count": null,
   "metadata": {},
   "outputs": [],
<<<<<<< Updated upstream
   "source": []
=======
   "source": [
    "# Define a function\n",
    "def solve_backwards(beta,W,T):\n",
    "        # 2. Initialize\n",
    "    Vstar_bi = np.nan+np.zeros([W+1,T])\n",
    "    Cstar_bi = np.nan + np.zeros([W+1,T])\n",
    "    Cstar_bi[:,T-1] = np.arange(W+1) \n",
    "    Vstar_bi[:,T-1] = np.sqrt(Cstar_bi[:,T-1])\n",
    "    # 3. solve\n",
    "    \n",
    "    # Loop over periods\n",
    "    for t in range(T-2, -1, -1):  #from period T-2, until period 0, backwards  \n",
    "        \n",
    "        #loop over states\n",
    "        for w in range(W+1):\n",
    "            c = np.arange(w+1)\n",
    "\n",
    "            w_c = w-c\n",
    "            \n",
    "            Vstar_bi[w,t] = np.amax(V_guess)\n",
    "            Cstar_bi[w,t] = np.argmax(V_guess)\n",
    "\n",
    "    return Cstar_bi, Vstar_bi"
   ]
>>>>>>> Stashed changes
  },
  {
   "cell_type": "markdown",
   "metadata": {},
   "source": [
    "### 3. Import the function and check that it works \n",
    "\n",
    "Notice, C is our policy function. The policy function tells us the optimal way of spending our resources in a given period. "
   ]
  },
  {
   "cell_type": "code",
   "execution_count": 102,
   "metadata": {},
   "outputs": [],
   "source": [
    "from Exercise_1 import solve_backwards\n",
    "\n",
    "beta = 0.9\n",
    "W = 5\n",
    "T = 3\n",
    "C,V = solve_backwards(beta=beta, W=W, T=T)"
   ]
  },
  {
   "cell_type": "code",
   "execution_count": 103,
   "metadata": {},
   "outputs": [
    {
     "data": {
      "text/plain": [
       "array([[0., 0., 0.],\n",
       "       [1., 1., 1.],\n",
       "       [1., 1., 2.],\n",
       "       [1., 2., 3.],\n",
       "       [2., 2., 4.],\n",
       "       [2., 3., 5.]])"
      ]
     },
     "execution_count": 103,
     "metadata": {},
     "output_type": "execute_result"
    }
   ],
   "source": [
    "C   #Given a certain state and a certain level of comsumption left,\n",
    "    #we have the whole path mapped out with the solver"
   ]
  },
  {
   "cell_type": "code",
   "execution_count": 104,
   "metadata": {},
   "outputs": [
    {
     "data": {
      "text/plain": [
       "2.0"
      ]
     },
     "execution_count": 104,
     "metadata": {},
     "output_type": "execute_result"
    }
   ],
   "source": [
    "C[5,0]"
   ]
  },
  {
   "cell_type": "code",
   "execution_count": 105,
   "metadata": {},
   "outputs": [
    {
     "data": {
      "text/plain": [
       "2.0"
      ]
     },
     "execution_count": 105,
     "metadata": {},
     "output_type": "execute_result"
    }
   ],
   "source": [
    "C[3,1]"
   ]
  },
  {
   "cell_type": "code",
   "execution_count": 106,
   "metadata": {},
   "outputs": [
    {
     "data": {
      "text/plain": [
       "1.0"
      ]
     },
     "execution_count": 106,
     "metadata": {},
     "output_type": "execute_result"
    }
   ],
   "source": [
    "C[1,2]"
   ]
  },
  {
   "cell_type": "markdown",
   "metadata": {},
   "source": [
    "### 4. Use the policy function to simulate how 5 resources now can be spend optimally over 3 periods.    "
   ]
  },
  {
   "cell_type": "code",
   "execution_count": 107,
   "metadata": {
    "scrolled": true
   },
   "outputs": [
    {
     "name": "stdout",
     "output_type": "stream",
     "text": [
      "3.0\n",
      "1.0\n",
      "0.0\n",
      "[2. 2. 1.]\n"
     ]
    }
   ],
   "source": [
    "# 4. simulate\n",
<<<<<<< Updated upstream
    "\n",
    "C_backwards = np.empty(T) #Make an empty vector of length T to store optimal consumption in\n",
    "W_now = W #Set the initial cake size to W\n",
    "\n",
    "for t in range(T): #Loop forwards over periods\n",
    "    W_now = int(W_now)   # change the type to integreger 0,1,2,3 and so on\n",
    "    \n",
    "    C_backwards[t] = C[W_now,t]\n",
    "    W_now = W_now - C_backwards[t]\n",
    "    \n",
    "    print(W_now)\n",
    "    \n",
    "    # Hint, use the policy function, C, you found above to calculate optimal consumption and then update W_now\n",
    "    \n",
=======
    "C_backwards = np.empty(T) #Make an empty vector of length T to store optimal consumption in\n",
    "W_now = W #Set the initial cake size to W\n",
    "\n",
    "for t in range(T): #Loop forwards over periods\n",
    "    W_now = int(W_now)   # change the type to integreger 0,1,2,3 and so on\n",
    "    # Fill in. \n",
    "    # Hint, use the policy function, C, you found above to calculate optimal consumption and then update W_now\n",
    "    \n",
>>>>>>> Stashed changes
    "print(C_backwards)"
   ]
  },
  {
   "cell_type": "markdown",
   "metadata": {},
   "source": [
    "### 5. Solve the model for $T = 10$."
   ]
  },
  {
   "cell_type": "code",
   "execution_count": 108,
   "metadata": {},
   "outputs": [],
   "source": [
    "# 1. Setup \n",
    "beta = 0.9\n",
    "W = 5\n",
    "T = 10\n",
    "\n",
    "# 2. - 3. Solve \n",
    "C10, V10 = solve_backwards(beta,W,T)  # call function"
   ]
  },
  {
   "cell_type": "markdown",
   "metadata": {},
   "source": [
    "Simulate $C_1$, $C_2$,...,$C_{10}$ using the policy function found in 5) and W=5"
   ]
  },
  {
   "cell_type": "code",
   "execution_count": null,
   "metadata": {},
   "outputs": [],
   "source": [
    "# Define function to simulate\n",
    "def simulate(Cstar,T,W):\n",
    "    C_backwards = np.empty(T)\n",
    "    W_now = W\n",
    "    for t in range(T):\n",
    "        W_now = int(W_now)   # change the type to integreger 0,1,2,3 and so on\n",
    "        # Fill in.\n",
    "        \n",
    "    return C_backwards\n",
    "\n",
    "\n",
    "# 4. Simulate\n",
    "C_sim = simulate(C10,T,W)  # Call function\n",
    "        \n",
    "print('Solution for C with T =',T,'and W =', W , ': C =',C_sim)"
   ]
  },
  {
   "cell_type": "markdown",
   "metadata": {},
   "source": [
    "Play around with W, $\\beta$ and see the results. Are the results inline with your intuition?"
   ]
  }
 ],
 "metadata": {
  "kernelspec": {
   "display_name": "Python 3 (ipykernel)",
   "language": "python",
   "name": "python3"
  },
  "language_info": {
   "codemirror_mode": {
    "name": "ipython",
    "version": 3
   },
   "file_extension": ".py",
   "mimetype": "text/x-python",
   "name": "python",
   "nbconvert_exporter": "python",
   "pygments_lexer": "ipython3",
   "version": "3.8.12"
  },
  "vscode": {
   "interpreter": {
    "hash": "e426bf05754cca8d7bd83a0dce81a672af178a75fe45d0c3ca2f6c8ec8bbe319"
   }
  }
 },
 "nbformat": 4,
 "nbformat_minor": 4
}
