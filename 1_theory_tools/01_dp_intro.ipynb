{
 "cells": [
  {
   "cell_type": "markdown",
   "metadata": {
    "slideshow": {
     "slide_type": "slide"
    }
   },
   "source": [
    "# Dynamic Programming and Structural Econometrics #1\n",
    "\n",
    "### Introduction to Markov Decisions Processes (MDP) and  Dynamic Programming (DP)\n",
    "\n",
    "**Readings:** \n",
    "- 📖 John Rust, \"Structural estimation of Markov decision processes.\" *Handbook of econometrics* Vol 4: Sections 1-2.([link to paper](https://editorialexpress.com/jrust/papers/handbook_ec_v4_rust.pdf))\n",
    "- 📖 Jerome Adda and Russell Cooper “Dynamic Economics. Quantitative Methods and Applications.” Chapters: 2-3\n",
    "\n",
    "by Bertel Schjerning\n",
    "\n",
    "University of Copenhagen\n",
    "\n",
    "test?"
   ]
  },
  {
   "cell_type": "markdown",
   "metadata": {
    "slideshow": {
     "slide_type": "slide"
    }
   },
   "source": [
    "### Overview\n",
    "- *What?*\n",
    "    - **Markov Decisions Processes (MDP)**: flexible framework for modeling sequential decisions making under uncertainty.\n",
    "    - **Use Dynamic Programming to Solve MDPs**, i.e. economic problems where *optimal choices* made contain *intertemporal trade-offs*.\n",
    "    - **Estimate structural parameters** that index the model (utility, constraints, beliefs, discounting)\n",
    "\n",
    "- *Why?*\n",
    "    - Most economic decisions are exactly like this.\n",
    "    - Do a masters degree or start working?\n",
    "    - Marry now, or wait a bit longer for Brad Pitt or Julia Roberts to show up? \n",
    "    - In general: eat today or save for eating tomorrow.\n",
    "\n",
    "- *How?*\n",
    "    - Solution: Using the tools of **dynamic programming** to solve MDP's.\n",
    "    - Structural estimation: Non-linear estimation methods.\n",
    "    - Evaluation of policy proposals: Counterfactual simulations."
   ]
  },
  {
   "cell_type": "markdown",
   "metadata": {
    "slideshow": {
     "slide_type": "slide"
    }
   },
   "source": [
    "### Very useful tool\n",
    "- **DP is a very useful tool**\n",
    "    - Work-horse of modern macroeconomics and structural micro.\n",
    "    - Huge empirical success!\n",
    "\n",
    "- **Many problems use this tool.**\n",
    "    - investment, labor demand, import/export, inventory management, labor supply, marriage, fertility, car replacements, housing, residential choice, saving, retirement, occupational choice, educational choice, tax planning, job-search, real business cycle macro models, asset pricing, portfolio choices, etc.\n",
    "\n",
    "- **More importantly**\n",
    "    - After this course, you can do this too!\n"
   ]
  },
  {
   "cell_type": "markdown",
   "metadata": {
    "slideshow": {
     "slide_type": "slide"
    }
   },
   "source": [
    "### This lecture\n",
    "1. General behavioral framework: Markov Decisions Processes (MDP)\n",
    "1. The Bellman Equation in finite and infinite horizon problems\n",
    "1. Solution method: Value Function Iterations (VFI) \n",
    "\n",
    "### Next time: \n",
    "- Numerical Implementation of Bellman operator and VFI\n",
    "- Example: The cake eating problem\n",
    "    \n"
   ]
  },
  {
   "cell_type": "markdown",
   "metadata": {
    "slideshow": {
     "slide_type": "slide"
    }
   },
   "source": [
    "### General behavioral framework: Markov Decisions Processes (MDP) \n",
    "\n",
    "- Given **state** $s_t \\in S$ an agent takes an **decision** $d_t \\in D(s)$ that determines **current utility** $u_t(s_t,d_t)$ as well as the future states of the world.\n",
    "- The agent forms (subjective) **beliefs** about the uncertain *next period's state* $s_{t+1}$ that evolve according to a Markov transition probability $p(s_{t+1}|s_t, d_t)$. \n",
    "- The agent's problem is to choose a **optimal decision rule** $\\mathbf{\\delta} = \\{\\delta_0,...,\\delta_T\\}$, where $d_t=\\delta_t(s_t)$, that solves\n",
    "$$\n",
    "V(s) \\equiv \\max_{\\mathbf{\\delta}=\n",
    "\\{\\delta_0..... \\delta_{T}\\}} \\mathbb{E}{_{\\mathbf{\\delta}}} \\big[ \\sum_{t=0}^T \\beta^t u_t(s_t,d_t) | s_0=s \\big]\n",
    "$$\n",
    "where $\\mathbb{E}_{\\delta}$ denotes expectation with respect to the controlled stochastic process $\\{s_t,d_t\\}$ induced by the decision rule $\\delta$.\n",
    "- The difficulty is that we are **looking for a set of functions** $\\mathbf{\\delta} = \\{\\delta_0,...,\\delta_T\\}$, not just for a set of numbers $\\mathbf{d} = \\{d_0,...,d_T\\}$ \n",
    "- DP simplifies the MDP problem, allowing us to find $\\mathbf{\\delta} = \\{\\delta_0,...,\\delta_T\\}$ using a recursive procedure. "
   ]
  },
  {
   "cell_type": "markdown",
   "metadata": {
    "slideshow": {
     "slide_type": "slide"
    }
   },
   "source": [
    "### Finite horizon Dynamic Programming (DP) problems\n",
    "- If $T < \\infty$, DP is equivalent to **backward induction**. \n",
    "\n",
    "- In the terminal period $V_T$ and $\\delta_T$ are\n",
    "\n",
    "$$\n",
    "V_T(s_T)= \\max_{d_T \\in D(s_T)} u_T(s_T, d_T) \\quad\n",
    "\\delta_T(s_T)=\\arg \\max_{d_T \\in D(s_T)} u_T(s_T, d_T)\n",
    "$$\n",
    "- In periods $t=1,...,T-1$, we can find $V_t$ recursively by solving the **Bellman Equation**:\n",
    "$$\n",
    "V_t(s_t)= \\max_{d_t \\in D(s_t)} \\big[u_t(s_t, d_t) + \\beta \\int V_{t+1}(s_{t+1})p(ds_{t+1}|s_t, d_t)  \\big]\n",
    "$$\n",
    "\n",
    "- Similarly, the optimal policy function $\\delta_t$ is \n",
    "$$\n",
    "\\delta_t(s_t)=\\arg \\max_{d_t \\in D(s_t)} \\big[u_t(s_t, d_t) + \\beta \\int V_{t+1}(s_{t+1})p(ds_{t+1}|s_t, d_t) \\big]\\\\\n",
    "$$\n",
    "- DP uses the value function $V_t(s)$ as a \"shadow price\" to decentralize a complicated stochastic/multiperiod optimization problem into a sequence of simpler deterministic/static optimization problems.\n",
    "\n",
    "- It could be the case that $d_t = \\delta_t (s_t , d_{t-1}, d_{t-1},\\dots)$ depend on the whole history, but it can be shown that time separable utility and the Markovian property of $p$ imply that $d_t = \\delta_t (s_t)$.\n",
    "\n",
    "\n",
    "\n",
    "\n"
   ]
  },
  {
   "cell_type": "markdown",
   "metadata": {
    "slideshow": {
     "slide_type": "slide"
    }
   },
   "source": [
    "### Infinite horizon Dynamic Programming (DP) problems\n",
    "- If $T = \\infty$ we do not have a finite state vector.\n",
    "- On the other hand, if and $u_t(\\cdot)=u(\\cdot)$ time separability and the Markovian property of $p$ imply that $d_t = \\delta(s_t)$, that is,\n",
    "the problem has a *stationary* Markovian structure.\n",
    "- Thus, the optimal *stationary* Markovian decision rule is characterized by:\n",
    "$$\n",
    "\\delta(s)=\\arg \\max_{d \\in D(s)} \\big[u(s, d) + \\beta \\int V(s')p(ds'|s, d) \\big]\\\\\n",
    "V(s)=  \\max_{d \\in D(s)} \\big[u(s, d) + \\beta \\int V(s')p(ds'|s, d)  \\big]\n",
    "$$ \n",
    "where the last equation is known as the **Bellman equation**"
   ]
  },
  {
   "cell_type": "markdown",
   "metadata": {
    "slideshow": {
     "slide_type": "slide"
    }
   },
   "source": [
    "### The Bellman operator\n",
    "- For the infinite horizon problem we had the Bellman equation\n",
    "$$\n",
    "V(s)=  \\max_{d \\in D(s)} \\big[u(s, d) + \\beta \\int V(s')p(ds'|s, d)  \\big]\n",
    "$$\n",
    "- Let $B(S)$ the Banach space of bounded, measurable real-valued functions on S, $f: S\\rightarrow R$ under the supremum norm $||f||=sup_{s\\in S}|f(s)|$\n",
    "- **The Bellman operator** $\\Gamma: B(S)\\rightarrow  B(S)$ is defined by\n",
    "$$\n",
    "\\Gamma(W)(s) \\equiv \\max_{d \\in D(s)} \\big[u(s, d) + \\beta \\int W(s')p(ds'|s, d)  \\big]\n",
    "$$\n",
    "- *The Bellman operator is simply the RHS of the Bellman equation*\n",
    "- Using this notation we emphasize that the Bellman equation $V=\\Gamma(V)$ is a *functional equation* (mapping from value functions to value functions).\n",
    "- The value function $V$ is the **fixed point** of $\\Gamma$, i.e. the solution to the functional equation, $V=\\Gamma(V)$."
   ]
  },
  {
   "cell_type": "markdown",
   "metadata": {
    "slideshow": {
     "slide_type": "slide"
    }
   },
   "source": [
    "### Does solution exits, is it unique and how do we find it?\n",
    "- To determine existence and uniqueness, we need to impose some regularity conditions: 1) $S$ and $D$ are compact metric spaces, 2) $u(s, d)$ is jointly continuous and bounded, 3) $s \\rightarrow D(s)$ is a continuous correspondence.\n",
    "    \n",
    "- $\\Gamma$ is a **contraction mapping**: \n",
    "    - Blackwell (1965) and Denardo (1967) showed that the Bellman operator is a contraction\n",
    "    - That is, for $\\beta \\in [0,1[$  and $W$,$V$ in $B(S)$ we have\n",
    "$$ \n",
    "||\\Gamma(V)−\\Gamma(W)||\\le \\beta ||V − W||\n",
    "$$\n",
    "\n",
    "- **Contraction mapping theorem**: if $\\Gamma$ is a contraction mapping on a Banach Space $B$, then $\\Gamma$ has an unique fixed point, $V=\\Gamma(V)$ .\n",
    "\n",
    "- **Blackwell’s theorem**: There exists a unique stationary Markovian decision rule $\\delta(s)$ and value function $V(s)$ defined by\n",
    "$$\n",
    "\\delta(s)=\\arg \\max_{d \\in D(s)} \\big[u(s, d) + \\beta \\int V(s')p(ds'|s, d) \\big]\\\\\n",
    "V(s)=\\max_{d \\in D(s)} \\big[u(s, d) + \\beta \\int V(s')p(ds'|s, d)  \\big]\n",
    "$$\n",
    "that solves the associated MDP problem."
   ]
  },
  {
   "cell_type": "markdown",
   "metadata": {
    "slideshow": {
     "slide_type": "slide"
    }
   },
   "source": [
    "### EXAMPLE I: Simplest dynamic pricing problem in economics\n",
    "- **Perpetuity** pays an amount $c$ forever, \n",
    "- **Discount factor** $\\beta  = 1/(1 + r )$ with constant $r > 0$ \n",
    "- **Value:** discounted present sum of all cash flows\n",
    "- Can we find the asset price, $V$?\n",
    "\n",
    "$$V =c+\\beta c+\\beta^2c+\\beta^3c+ \\dots$$\n",
    "\n",
    "- Note that:\n",
    "\n",
    "$$V =c+\\beta (c+\\beta c+\\beta^2 c+ \\dots$$ \n",
    "\n",
    "- or better\n",
    "\n",
    "$$V = c + \\beta V$$\n",
    "\n",
    "- This is a **Bellman equation**! \n",
    "- Solution is trivial, $V = c/(1-\\beta)$"
   ]
  },
  {
   "cell_type": "markdown",
   "metadata": {
    "slideshow": {
     "slide_type": "slide"
    }
   },
   "source": [
    "### How does this look in terms of our previous notation\n",
    "- Recall the Bellman equation for the infinite horizon ($T=\\infty$) MDP\n",
    "$$\n",
    "V(s)=\\max_{d \\in D(s)} \\big[u(s, d) + \\beta \\int V(s')p(ds'|s, d)  \\big]\n",
    "$$\n",
    "- Given that $u(s,d)=c$ is constant, the evolution of $s$ and $d$ is irrelevant, and $V$ is also constant (i.e. not a function) \n",
    "$$V=\\max_{d \\in D(s)} \\big[c + \\beta \\int V p(ds'|s, d)  \\big] = c + \\beta V $$\n",
    "- With the trivial solution $$V = c/(1-\\beta)$$\n",
    "\n",
    "- Clearly, the MDP problem implies that $V =c+\\beta c+\\beta^2c+\\beta^3c+ \\dots$ \n"
   ]
  },
  {
   "cell_type": "markdown",
   "metadata": {
    "slideshow": {
     "slide_type": "slide"
    }
   },
   "source": [
    "### Recursive solution: Find V using value function iterations (VFI)\n",
    "VFI Algorithm:\n",
    "$$\n",
    "V = \\Gamma(V) \\rightarrow V_{n+1} = \\Gamma(V_n)\n",
    "$$\n",
    "\n",
    "1. Select a tolerance level, $\\epsilon>0$, and an initial guess on the value function $ V_0$ \n",
    "1. Iterate on $V_{n+1} = \\Gamma(V_n) $ \n",
    "1. Stop if $||V_{n+1}- V_n||<\\epsilon$ else go to step 2 \n",
    "\n",
    "- If $\\Gamma$ is a contraction mapping VFI is guaranteed to converge to the unique fixed point $V=\\Gamma(V)$ from any starting value $V_0$. \n",
    "- Given a specified tolerance on the error bound , VFI will terminate in a finite number of steps. "
   ]
  },
  {
   "cell_type": "markdown",
   "metadata": {
    "slideshow": {
     "slide_type": "slide"
    }
   },
   "source": [
    "### Can we find V in the simple asset pricing model \n",
    "- Take *any* initial value $V_0$ and do a first iteration on the Bellman equation \n",
    "$$V_1 =c+\\beta V_0$$\n",
    "- Do a second iteration:\n",
    "$$V_2 =c+\\beta V_1=c+\\beta c+\\beta^2 V_0$$\n",
    "- By induction, the $n$'th iteration gives\n",
    "$$V_{n} =c+\\beta V_{n-1}=c+\\beta c+ \\beta^2 c + \\cdots + \\beta^{n} V_0$$\n",
    "- It also holds\n",
    "$$V =c+\\beta V =c+\\beta c+ \\beta^2 c + \\cdots + \\beta^{n} V$$\n",
    "\n",
    "- Compute difference:\n",
    "$$|V_n-V|= \\beta^{n}|V_0-V|$$\n",
    "- Clearly \n",
    "$$\\lim_{n\\rightarrow \\infty}|V_n-V|= \\lim_{n\\rightarrow \\infty}\\beta^{n}|V_0-V|=0 \\text{ for any }V_0$$ "
   ]
  },
  {
   "cell_type": "markdown",
   "metadata": {
    "slideshow": {
     "slide_type": "slide"
    }
   },
   "source": [
    "### Code for solving asset pricing model using VFI"
   ]
  },
  {
   "cell_type": "code",
   "execution_count": 1,
   "metadata": {
    "slideshow": {
     "slide_type": "-"
    }
   },
   "outputs": [
    {
     "name": "stdout",
     "output_type": "stream",
     "text": [
      "Convergence achieved after 669 iterations!\n",
      "Numerical solution , V= 1999.9999999999964\n",
      "Analytical solution, V= 1999.9999999999982\n"
     ]
    }
   ],
   "source": [
    "import numpy as np\n",
    "import matplotlib.pyplot as plt\n",
    "class asset_pricing():\n",
    "    '''Simple class to implement asset pricing problem'''\n",
    "    def __init__(self,beta=.99, c=1.0):\n",
    "        '''Initializer'''\n",
    "        self.c = c          # Per period payoff\n",
    "        self.beta = beta    # Discount factor\n",
    "\n",
    "    def bellman(self,V0):\n",
    "        '''Bellman operator, V0 is scalar and c is exogenous'''\n",
    "        V1 = self.c + self.beta*V0 # update bellman\n",
    "        return V1\n",
    "\n",
    "    def solve(self, V0=0.0, maxiter=1000, tol=1e-4):\n",
    "        '''Solves the model using VFI (successive approximations)'''\n",
    "        V=np.array([V0])\n",
    "    \n",
    "        for iter in range(maxiter):\n",
    "            V1=self.bellman(V[iter]) # evaluate bellman at V0            \n",
    "            V=np.append(V,V1)        # Save V1 in V[iter+1]\n",
    "            if abs(V[iter+1]-V[iter]) < tol: # Convergence achived\n",
    "                print('Convergence achieved after', iter, 'iterations!')\n",
    "                print('Numerical solution , V=', round(V[iter+1],16))\n",
    "                print('Analytical solution, V=', round(self.c/(1-self.beta), 16))\n",
    "                return V # Return optimal value\n",
    "            # end of loop and prepare for next iteration            \n",
    "        else: # if iter reach maxiter without convergence\n",
    "            print('No convergence: maximum number of iterations achieved!')\n",
    "            return V\n",
    "        \n",
    "model = asset_pricing(beta=0.95, c=100) # Create istance of asset_pricing model object\n",
    "V = model.solve(maxiter=10000, tol=1e-14)\n"
   ]
  },
  {
   "cell_type": "markdown",
   "metadata": {
    "slideshow": {
     "slide_type": "slide"
    }
   },
   "source": [
    "### Convergence of recursive solution obtained by VFI"
   ]
  },
  {
   "cell_type": "code",
   "execution_count": 2,
   "metadata": {
    "slideshow": {
     "slide_type": "-"
    }
   },
   "outputs": [
    {
     "name": "stdout",
     "output_type": "stream",
     "text": [
      "Convergence achieved after 3231 iterations!\n",
      "Numerical solution , V= 99.9999999999992\n",
      "Analytical solution, V= 99.99999999999991\n"
     ]
    },
    {
     "data": {
<<<<<<< HEAD
      "image/png": "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\n",
=======
      "image/png": "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\n",
>>>>>>> 366d884311f9803671875a7c671f78fd3feaee9f
      "text/plain": [
       "<Figure size 1600x600 with 2 Axes>"
      ]
     },
     "metadata": {},
     "output_type": "display_data"
    }
   ],
   "source": [
    "# Create model instance and solve for V using value function iterations (VFI)\n",
    "model = asset_pricing(beta=0.99) # Create istance of asset_pricing model object\n",
    "V = model.solve(maxiter=10000, tol=1e-14)\n",
    "\n",
    "# plot Vn and error bound\n",
    "fig, (ax1, ax2) = plt.subplots(1, 2, figsize=(16,6))\n",
    "ax1.plot(V,linewidth=1.5)\n",
    "ax1.set_ylabel(\"Value, $V_n$\"); ax1.set_xlabel(\"Iteraton count, $n$\")\n",
    "ax2.plot(np.abs(V[1:]-V[0:-1]),linewidth=1.5)\n",
    "ax2.set_ylabel(\"Error Bound, $|V_{n+1}-V_{n}$|\"); ax2.set_xlabel(\"Iteration count, $n$\")\n",
    "plt.show()"
   ]
  },
  {
   "cell_type": "markdown",
   "metadata": {
    "slideshow": {
     "slide_type": "slide"
    }
   },
   "source": [
    "### Value function iterations are slow when $\\beta$ is close to 1\n",
    "<div align=\"center\">\n",
    "    <img src=\"img/asset_iter_beta.png\" style=\"width:1000px;\">\n",
    "</div>\n"
   ]
  },
  {
   "cell_type": "markdown",
   "metadata": {
    "hide-output": false,
    "slideshow": {
     "slide_type": "slide"
    }
   },
   "source": [
    "### Properties of VFI\n",
    "- VFI is easy to program, fast to compute and guaranteed to converge. \n",
    "- By the contaction mapping property VFI **converge linearly** \n",
    "\n",
    "$$\n",
    "||\\Gamma(W)-\\Gamma(V)||\\le \\beta ||W - V|| \\quad \\Rightarrow  \\quad\n",
    "||V_{n+1}-V||\\le \\beta ||V_{n} - V||\n",
    "$$\n",
    "\n",
    "- That is, the approximation error at iteration $n+1$ is a linear function of the approximation error at iteration $n$\n",
    "- When $\\beta$ is very close to $1$ $\\Rightarrow$ rate of convergence of VFI is slow, $\\Rightarrow$ VFI may require thousands of iterations in order to reduce the error from, say $0.01$,to an acceptable value in the range $1e-6$ or smaller. \n",
    "- Later in this course we will introduce methods that converges faster (Newton-Kantorowich iterations or Policy iterations)\n",
    "\n"
   ]
  },
  {
   "cell_type": "markdown",
   "metadata": {
    "slideshow": {
     "slide_type": "slide"
    }
   },
   "source": [
    "### Some lessons from this lecture\n",
    "1. Markov Decisions Processes (MDP) can be expressed recursively by the Bellman equation \n",
    "1. Finite horizon models\n",
    "    - Solution is indexed by time\n",
    "    - Can be solved by backward induction\n",
    "    - (VFI staring in the last period $T$ and moving back to period t=0).   \n",
    "1. In infinite horizon problems\n",
    "    - The value function and decision rules are are stationary. \n",
    "    - Solution is found as fixed point on Bellman Operator. \n",
    "    - Solution is unique and VFI is guaranteed to converge if Bellman operator is a contraction. \n",
    "    - VFI slows down when $\\beta$ is close to 1"
   ]
  },
  {
   "cell_type": "markdown",
   "metadata": {
    "slideshow": {
     "slide_type": "slide"
    }
   },
   "source": [
    "### References and further learning resources\n",
    "\n",
    "- 📖 Adda and Russell Cooper “Dynamic Economics. Quantitative Methods and Applications.” *Chapters: 2, 3.3*  \n",
    "- QuantEcon: Quantitative Economics with Python [https://python.quantecon.org/intro.html](https://python.quantecon.org/intro.html)  \n",
    "- QuantEcon: Advanced Quantitative Economics with Python [https://python-advanced.quantecon.org/intro.html](https://python-advanced.quantecon.org/intro.html)"
   ]
  }
 ],
 "metadata": {
  "celltoolbar": "Slideshow",
  "date": 1612589586.079556,
  "download_nb": false,
  "filename": "01_dp_intro.rst",
  "filename_with_path": "01_dp_intro",
  "kernelspec": {
   "display_name": "Python 3 (ipykernel)",
   "language": "python",
   "name": "python3"
  },
  "language_info": {
   "codemirror_mode": {
    "name": "ipython",
    "version": 3
   },
   "file_extension": ".py",
   "mimetype": "text/x-python",
   "name": "python",
   "nbconvert_exporter": "python",
   "pygments_lexer": "ipython3",
<<<<<<< HEAD
   "version": "3.8.12"
=======
   "version": "3.9.12"
>>>>>>> 366d884311f9803671875a7c671f78fd3feaee9f
  },
  "title": "Dynamic Programming and Structural Econometrics #1"
 },
 "nbformat": 4,
 "nbformat_minor": 4
}