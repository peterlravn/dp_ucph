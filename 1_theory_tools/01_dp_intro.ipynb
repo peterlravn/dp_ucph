{
 "cells": [
  {
   "cell_type": "markdown",
   "metadata": {
    "slideshow": {
     "slide_type": "slide"
    }
   },
   "source": [
    "# Dynamic Programming and Structural Econometrics #1\n",
    "\n",
    "### Introduction to Markov Decisions Processes (MDP) and  Dynamic Programming (DP)\n",
    "\n",
    "**Readings:** \n",
    "- 📖 John Rust, \"Structural estimation of Markov decision processes.\" *Handbook of econometrics* Vol 4: Sections 1-2.([link to paper](https://editorialexpress.com/jrust/papers/handbook_ec_v4_rust.pdf))\n",
    "- 📖 Jerome Adda and Russell Cooper “Dynamic Economics. Quantitative Methods and Applications.” Chapters: 2-3\n",
    "\n",
    "by Bertel Schjerning\n",
    "\n",
    "University of Copenhagen\n",
    "\n",
    "test?"
   ]
  },
  {
   "cell_type": "markdown",
   "metadata": {
    "slideshow": {
     "slide_type": "slide"
    }
   },
   "source": [
    "### Overview\n",
    "- *What?*\n",
    "    - **Markov Decisions Processes (MDP)**: flexible framework for modeling sequential decisions making under uncertainty.\n",
    "    - **Use Dynamic Programming to Solve MDPs**, i.e. economic problems where *optimal choices* made contain *intertemporal trade-offs*.\n",
    "    - **Estimate structural parameters** that index the model (utility, constraints, beliefs, discounting)\n",
    "\n",
    "- *Why?*\n",
    "    - Most economic decisions are exactly like this.\n",
    "    - Do a masters degree or start working?\n",
    "    - Marry now, or wait a bit longer for Brad Pitt or Julia Roberts to show up? \n",
    "    - In general: eat today or save for eating tomorrow.\n",
    "\n",
    "- *How?*\n",
    "    - Solution: Using the tools of **dynamic programming** to solve MDP's.\n",
    "    - Structural estimation: Non-linear estimation methods.\n",
    "    - Evaluation of policy proposals: Counterfactual simulations."
   ]
  },
  {
   "cell_type": "markdown",
   "metadata": {
    "slideshow": {
     "slide_type": "slide"
    }
   },
   "source": [
    "### Very useful tool\n",
    "- **Many problems use this tool.**\n",
    "    - investment, labor demand, import/export, inventory management, labor supply, marriage, fertility, car replacements, housing, residential choice, saving, retirement, occupational choice, educational choice, tax planning, job-search, real business cycle macro models, asset pricing, portfolio choices, etc.\n",
    "\n",
    "- **DP is a very useful tool**\n",
    "    - Work-horse of modern macroeconomics and structural micro.\n",
    "    - Huge empirical success!\n",
    "\n",
    "- **More importantly**\n",
    "    - After this course, you can do this too!\n"
   ]
  },
  {
   "cell_type": "markdown",
   "metadata": {
    "slideshow": {
     "slide_type": "slide"
    }
   },
   "source": [
    "### This lecture\n",
    "1. General behavioral framework: Markov Decisions Processes (MDP)\n",
    "1. The Bellman Equation in finite and infinite horizon problems\n",
    "1. Solution method: Value Function Iterations (VFI) \n",
    "\n",
    "### Next time: \n",
    "- Numerical Implementation of Bellman operator and VFI\n",
    "- Example: The cake eating problem\n",
    "    \n"
   ]
  },
  {
   "cell_type": "markdown",
   "metadata": {
    "slideshow": {
     "slide_type": "slide"
    }
   },
   "source": [
    "### General behavioral framework: Markov Decisions Processes (MDP) \n",
    "\n",
    "- Given **state** $s_t \\in S$ an agent takes an **decision** $d_t \\in D(s)$ that determines **current utility** $u_t(s_t,d_t)$ as well as the future states of the world.\n",
    "- The agent forms (subjective) **beliefs** about the uncertain *next period's state* $s_{t+1}$ that evolve according to a Markov transition probability $p(s_{t+1}|s_t, d_t)$. \n",
    "- The agent's problem is to choose a **optimal decision rule** $\\mathbf{\\delta} = \\{\\delta_0,...,\\delta_T\\}$, where $d_t=\\delta_t(s_t)$, that solves\n",
    "$$\n",
    "V(s) \\equiv \\max_{\\mathbf{\\delta}=\n",
    "\\{\\delta_0..... \\delta_{T}\\}} \\mathbb{E}{_{\\mathbf{\\delta}}} \\big[ \\sum_{t=0}^T \\beta^t u_t(s_t,d_t) | s_0=s \\big]\n",
    "$$\n",
    "where $\\mathbb{E}_{\\delta}$ denotes expectation with respect to the controlled stochastic process $\\{s_t,d_t\\}$ induced by the decision rule $\\delta$.\n",
    "- The difficulty is that we are **looking for a set of functions** $\\mathbf{\\delta} = \\{\\delta_0,...,\\delta_T\\}$, not just for a set of numbers $\\mathbf{d} = \\{d_0,...,d_T\\}$ \n",
    "- DP simplifies the MDP problem, allowing us to find $\\mathbf{\\delta} = \\{\\delta_0,...,\\delta_T\\}$ using a recursive procedure. "
   ]
  },
  {
   "cell_type": "markdown",
   "metadata": {
    "slideshow": {
     "slide_type": "slide"
    }
   },
   "source": [
    "### Finite horizon Dynamic Programming (DP) problems\n",
    "- If $T < \\infty$, DP is equivalent to **backward induction**. \n",
    "\n",
    "- In the terminal period $V_T$ and $\\delta_T$ are\n",
    "\n",
    "$$\n",
    "V_T(s_T)= \\max_{d_T \\in D(s_T)} u_T(s_T, d_T) \\quad\n",
    "\\delta_T(s_T)=\\arg \\max_{d_T \\in D(s_T)} u_T(s_T, d_T)\n",
    "$$\n",
    "- In periods $t=1,...,T-1$, we can find $V_t$ recursively by solving the **Bellman Equation**:\n",
    "$$\n",
    "V_t(s_t)= \\max_{d_t \\in D(s_t)} \\big[u_t(s_t, d_t) + \\beta \\int V_{t+1}(s_{t+1})p(ds_{t+1}|s_t, d_t)  \\big]\n",
    "$$\n",
    "\n",
    "- Similarly, the optimal policy function $\\delta_t$ is \n",
    "$$\n",
    "\\delta_t(s_t)=\\arg \\max_{d_t \\in D(s_t)} \\big[u_t(s_t, d_t) + \\beta \\int V_{t+1}(s_{t+1})p(ds_{t+1}|s_t, d_t) \\big]\\\\\n",
    "$$\n",
    "- DP uses the value function $V_t(s)$ as a \"shadow price\" to decentralize a complicated stochastic/multiperiod optimization problem into a sequence of simpler deterministic/static optimization problems.\n",
    "\n",
    "- It could be the case that $d_t = \\delta_t (s_t , d_{t-1}, d_{t-1},\\dots)$ depend on the whole history, but it can be shown that time separable utility and the Markovian property of $p$ imply that $d_t = \\delta_t (s_t)$.\n",
    "\n",
    "\n",
    "\n",
    "\n"
   ]
  },
  {
   "cell_type": "markdown",
   "metadata": {
    "slideshow": {
     "slide_type": "slide"
    }
   },
   "source": [
    "### Infinite horizon Dynamic Programming (DP) problems\n",
    "- If $T = \\infty$ we do not have a finite state vector.\n",
    "- On the other hand, if and $u_t(\\cdot)=u(\\cdot)$ time separability and the Markovian property of $p$ imply that $d_t = \\delta(s_t)$, that is,\n",
    "the problem has a *stationary* Markovian structure.\n",
    "- Thus, the optimal *stationary* Markovian decision rule is characterized by:\n",
    "$$\n",
    "\\delta(s)=\\arg \\max_{d \\in D(s)} \\big[u(s, d) + \\beta \\int V(s')p(ds'|s, d) \\big]\\\\\n",
    "V(s)=  \\max_{d \\in D(s)} \\big[u(s, d) + \\beta \\int V(s')p(ds'|s, d)  \\big]\n",
    "$$ \n",
    "where the last equation is known as the **Bellman equation**"
   ]
  },
  {
   "cell_type": "markdown",
   "metadata": {
    "slideshow": {
     "slide_type": "slide"
    }
   },
   "source": [
    "### The Bellman operator\n",
    "- For the infinite horizon problem we had the Bellman equation\n",
    "$$\n",
    "V(s)=  \\max_{d \\in D(s)} \\big[u(s, d) + \\beta \\int V(s')p(ds'|s, d)  \\big]\n",
    "$$\n",
    "- Let $B(S)$ the Banach space of bounded, measurable real-valued functions on S, $f: S\\rightarrow R$ under the supremum norm $||f||=sup_{s\\in S}|f(s)|$\n",
    "- **The Bellman operator** $\\Gamma: B(S)\\rightarrow  B(S)$ is defined by\n",
    "$$\n",
    "\\Gamma(W)(s) \\equiv \\max_{d \\in D(s)} \\big[u(s, d) + \\beta \\int W(s')p(ds'|s, d)  \\big]\n",
    "$$\n",
    "- *The Bellman operator is simply the RHS of the Bellman equation*\n",
    "- Using this notation we emphasize that the Bellman equation $V=\\Gamma(V)$ is a *functional equation* (mapping from value functions to value functions).\n",
    "- The value function $V$ is the **fixed point** of $\\Gamma$, i.e. the solution to the functional equation, $V=\\Gamma(V)$."
   ]
  },
  {
   "cell_type": "markdown",
   "metadata": {
    "slideshow": {
     "slide_type": "slide"
    }
   },
   "source": [
    "### Does solution exits, is it unique and how do we find it?\n",
    "- To determine existence and uniqueness, we need to impose some regularity conditions: 1) $S$ and $D$ are compact metric spaces, 2) $u(s, d)$ is jointly continuous and bounded, 3) $s \\rightarrow D(s)$ is a continuous correspondence.\n",
    "    \n",
    "- $\\Gamma$ is a **contraction mapping**: \n",
    "    - Blackwell (1965) and Denardo (1967) showed that the Bellman operator is a contraction\n",
    "    - That is, for $\\beta \\in [0,1[$  and $W$,$V$ in $B(S)$ we have\n",
    "$$ \n",
    "||\\Gamma(V)−\\Gamma(W)||\\le \\beta ||V − W||\n",
    "$$\n",
    "\n",
    "- **Contraction mapping theorem**: if $\\Gamma$ is a contraction mapping on a Banach Space $B$, then $\\Gamma$ has an unique fixed point, $V=\\Gamma(V)$ .\n",
    "\n",
    "- **Blackwell’s theorem**: There exists a unique stationary Markovian decision rule $\\delta(s)$ and value function $V(s)$ defined by\n",
    "$$\n",
    "\\delta(s)=\\arg \\max_{d \\in D(s)} \\big[u(s, d) + \\beta \\int V(s')p(ds'|s, d) \\big]\\\\\n",
    "V(s)=\\max_{d \\in D(s)} \\big[u(s, d) + \\beta \\int V(s')p(ds'|s, d)  \\big]\n",
    "$$\n",
    "that solves the associated MDP problem."
   ]
  },
  {
   "cell_type": "markdown",
   "metadata": {
    "slideshow": {
     "slide_type": "slide"
    }
   },
   "source": [
    "### EXAMPLE I: Simplest dynamic pricing problem in economics\n",
    "- **Perpetuity** pays an amount $c$ forever, \n",
    "- **Discount factor** $\\beta  = 1/(1 + r )$ with constant $r > 0$ \n",
    "- **Value:** discounted present sum of all cash flows\n",
    "- Can we find the asset price, $V$?\n",
    "\n",
    "$$V =c+\\beta c+\\beta^2c+\\beta^3c+ \\dots$$\n",
    "\n",
    "- Note that:\n",
    "\n",
    "$$V =c+\\beta (c+\\beta c+\\beta^2 c+ \\dots$$ \n",
    "\n",
    "- or better\n",
    "\n",
    "$$V = c + \\beta V$$\n",
    "\n",
    "- This is a **Bellman equation**! \n",
    "- Solution is trivial, $V = c/(1-\\beta)$"
   ]
  },
  {
   "cell_type": "markdown",
   "metadata": {
    "slideshow": {
     "slide_type": "slide"
    }
   },
   "source": [
    "### How does this look in terms of our previous notation\n",
    "- Recall the Bellman equation for the infinite horizon ($T=\\infty$) MDP\n",
    "$$\n",
    "V(s)=\\max_{d \\in D(s)} \\big[u(s, d) + \\beta \\int V(s')p(ds'|s, d)  \\big]\n",
    "$$\n",
    "- Given that $u(s,d)=c$ is constant, the evolution of $s$ and $d$ is irrelevant, and $V$ is also constant (i.e. not a function) \n",
    "$$V=\\max_{d \\in D(s)} \\big[c + \\beta \\int V p(ds'|s, d)  \\big] = c + \\beta V $$\n",
    "- With the trivial solution $$V = c/(1-\\beta)$$\n",
    "\n",
    "- Clearly, the MDP problem implies that $V =c+\\beta c+\\beta^2c+\\beta^3c+ \\dots$ \n"
   ]
  },
  {
   "cell_type": "markdown",
   "metadata": {
    "slideshow": {
     "slide_type": "slide"
    }
   },
   "source": [
    "### Recursive solution: Find V using value function iterations (VFI)\n",
    "VFI Algorithm:\n",
    "$$\n",
    "V = \\Gamma(V) \\rightarrow V_{n+1} = \\Gamma(V_n)\n",
    "$$\n",
    "\n",
    "1. Select a tolerance level, $\\epsilon>0$, and an initial guess on the value function $ V_0$ \n",
    "1. Iterate on $V_{n+1} = \\Gamma(V_n) $ \n",
    "1. Stop if $||V_{n+1}- V_n||<\\epsilon$ else go to step 2 \n",
    "\n",
    "- If $\\Gamma$ is a contraction mapping VFI is guaranteed to converge to the unique fixed point $V=\\Gamma(V)$ from any starting value $V_0$. \n",
    "- Given a specified tolerance on the error bound , VFI will terminate in a finite number of steps. "
   ]
  },
  {
   "cell_type": "markdown",
   "metadata": {
    "slideshow": {
     "slide_type": "slide"
    }
   },
   "source": [
    "### Can we find V in the simple asset pricing model \n",
    "- Take *any* initial value $V_0$ and do a first iteration on the Bellman equation \n",
    "$$V_1 =c+\\beta V_0$$\n",
    "- Do a second iteration:\n",
    "$$V_2 =c+\\beta V_1=c+\\beta c+\\beta^2 V_0$$\n",
    "- By induction, the $n$'th iteration gives\n",
    "$$V_{n} =c+\\beta V_{n-1}=c+\\beta c+ \\beta^2 c + \\cdots + \\beta^{n} V_0$$\n",
    "- It also holds\n",
    "$$V =c+\\beta V =c+\\beta c+ \\beta^2 c + \\cdots + \\beta^{n} V$$\n",
    "\n",
    "- Compute difference:\n",
    "$$|V_n-V|= \\beta^{n}|V_0-V|$$\n",
    "- Clearly \n",
    "$$\\lim_{n\\rightarrow \\infty}|V_n-V|= \\lim_{n\\rightarrow \\infty}\\beta^{n}|V_0-V|=0 \\text{ for any }V_0$$ "
   ]
  },
  {
   "cell_type": "markdown",
   "metadata": {
    "slideshow": {
     "slide_type": "slide"
    }
   },
   "source": [
    "### Code for solving asset pricing model using VFI"
   ]
  },
  {
   "cell_type": "code",
   "execution_count": 1,
   "metadata": {
    "slideshow": {
     "slide_type": "-"
    }
   },
   "outputs": [],
   "source": [
    "import numpy as np\n",
    "import matplotlib.pyplot as plt\n",
    "class asset_pricing():\n",
    "    '''Simple class to implement asset pricing problem'''\n",
    "    def __init__(self,beta=.99, c=1.0):\n",
    "        '''Initializer'''\n",
    "        self.c = c          # Per period payoff\n",
    "        self.beta = beta    # Discount factor\n",
    "\n",
    "    def bellman(self,V0):\n",
    "        '''Bellman operator, V0 is scalar and c is exogenous'''\n",
    "        V1 = self.c + self.beta*V0 # update bellman\n",
    "        return V1\n",
    "\n",
    "    def solve(self, V0=0.0, maxiter=1000, tol=1e-4):\n",
    "        '''Solves the model using VFI (successive approximations)'''\n",
    "        V=np.array([V0])\n",
    "    \n",
    "        for iter in range(maxiter):\n",
    "            V1=self.bellman(V[iter]) # evaluate bellman at V0            \n",
    "            V=np.append(V,V1)        # Save V1 in V[iter+1]\n",
    "            if abs(V[iter+1]-V[iter]) < tol: # Convergence achived\n",
    "                print('Convergence achieved after', iter, 'iterations!')\n",
    "                print('Numerical solution , V=', round(V[iter+1],16))\n",
    "                print('Analytical solution, V=', round(self.c/(1-self.beta), 16))\n",
    "                return V # Return optimal value\n",
    "            # end of loop and prepare for next iteration            \n",
    "        else: # if iter reach maxiter without convergence\n",
    "            print('No convergence: maximum number of iterations achieved!')\n",
    "            return V"
   ]
  },
  {
   "cell_type": "markdown",
   "metadata": {
    "slideshow": {
     "slide_type": "slide"
    }
   },
   "source": [
    "### Convergence of recursive solution obtained by VFI"
   ]
  },
  {
   "cell_type": "code",
   "execution_count": 2,
   "metadata": {
    "slideshow": {
     "slide_type": "-"
    }
   },
   "outputs": [
    {
     "name": "stdout",
     "output_type": "stream",
     "text": [
      "Convergence achieved after 3231 iterations!\n",
      "Numerical solution , V= 99.9999999999992\n",
      "Analytical solution, V= 99.99999999999991\n"
     ]
    },
    {
     "data": {
      "image/png": "[encoded data removed]",
      "text/plain": [
       "<Figure size 1152x432 with 2 Axes>"
      ]
     },
     "metadata": {
      "needs_background": "light"
     },
     "output_type": "display_data"
    }
   ],
   "source": [
    "# Create model instance and solve for V using value function iterations (VFI)\n",
    "model = asset_pricing(beta=0.99) # Create istance of asset_pricing model object\n",
    "V = model.solve(maxiter=10000, tol=1e-14)\n",
    "\n",
    "# plot Vn and error bound\n",
    "fig, (ax1, ax2) = plt.subplots(1, 2, figsize=(16,6))\n",
    "ax1.plot(V,linewidth=1.5)\n",
    "ax1.set_ylabel(\"Value, $V_n$\"); ax1.set_xlabel(\"Iteraton count, $n$\")\n",
    "ax2.plot(np.abs(V[1:]-V[0:-1]),linewidth=1.5)\n",
    "ax2.set_ylabel(\"Error Bound, $|V_{n+1}-V_{n}$|\"); ax2.set_xlabel(\"Iteration count, $n$\")\n",
    "plt.show()"
   ]
  },
  {
   "cell_type": "markdown",
   "metadata": {
    "slideshow": {
     "slide_type": "slide"
    }
   },
   "source": [
    "### Value function iterations are slow when $\\beta$ is close to 1\n",
    "<div align=\"center\">\n",
    "    <img src=\"img/asset_iter_beta.png\" style=\"width:1000px;\">\n",
    "</div>\n"
   ]
  },
  {
   "cell_type": "markdown",
   "metadata": {
    "hide-output": false,
    "slideshow": {
     "slide_type": "slide"
    }
   },
   "source": [
    "### Properties of VFI\n",
    "- VFI is easy to program, fast to compute and guaranteed to converge. \n",
    "- By the contaction mapping property VFI **converge linearly** \n",
    "\n",
    "$$\n",
    "||\\Gamma(W)-\\Gamma(V)||\\le \\beta ||W - V|| \\quad \\Rightarrow  \\quad\n",
    "||V_{n+1}-V||\\le \\beta ||V_{n} - V||\n",
    "$$\n",
    "\n",
    "- That is, the approximation error at iteration $n+1$ is a linear function of the approximation error at iteration $n$\n",
    "- When $\\beta$ is very close to $1$ $\\Rightarrow$ rate of convergence of VFI is slow, $\\Rightarrow$ VFI may require thousands of iterations in order to reduce the error from, say $0.01$,to an acceptable value in the range $1e-6$ or smaller. \n",
    "- Later in this course we will introduce methods that converges faster (Newton-Kantorowich iterations or Policy iterations)\n",
    "\n"
   ]
  },
  {
   "cell_type": "markdown",
   "metadata": {
    "slideshow": {
     "slide_type": "slide"
    }
   },
   "source": [
    "### Some lessons from this lecture\n",
    "1. Markov Decisions Processes (MDP) can be expressed recursively by the Bellman equation \n",
    "1. Finite horizon models\n",
    "    - Solution is indexed by time\n",
    "    - Can be solved by backward induction\n",
    "    - (VFI staring in the last period $T$ and moving back to period t=0).   \n",
    "1. In infinite horizon problems\n",
    "    - The value function and decision rules are are stationary. \n",
    "    - Solution is found as fixed point on Bellman Operator. \n",
    "    - Solution is unique and VFI is guaranteed to converge if Bellman operator is a contraction. \n",
    "    - VFI slows down when $\\beta$ is close to 1"
   ]
  },
  {
   "cell_type": "markdown",
   "metadata": {
    "slideshow": {
     "slide_type": "slide"
    }
   },
   "source": [
    "### References and further learning resources\n",
    "\n",
    "- 📖 Adda and Russell Cooper “Dynamic Economics. Quantitative Methods and Applications.” *Chapters: 2, 3.3*  \n",
    "- QuantEcon: Quantitative Economics with Python [https://python.quantecon.org/intro.html](https://python.quantecon.org/intro.html)  \n",
    "- QuantEcon: Advanced Quantitative Economics with Python [https://python-advanced.quantecon.org/intro.html](https://python-advanced.quantecon.org/intro.html)"
   ]
  }
 ],
 "metadata": {
  "celltoolbar": "Slideshow",
  "date": 1612589586.079556,
  "download_nb": false,
  "filename": "01_dp_intro.rst",
  "filename_with_path": "01_dp_intro",
  "kernelspec": {
   "display_name": "Python 3 (ipykernel)",
   "language": "python",
   "name": "python3"
  },
  "language_info": {
   "codemirror_mode": {
    "name": "ipython",
    "version": 3
   },
   "file_extension": ".py",
   "mimetype": "text/x-python",
   "name": "python",
   "nbconvert_exporter": "python",
   "pygments_lexer": "ipython3",
   "version": "3.8.12"
  },
  "title": "Dynamic Programming and Structural Econometrics #1"
 },
 "nbformat": 4,
 "nbformat_minor": 4
}
